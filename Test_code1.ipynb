{
  "cells": [
    {
      "cell_type": "markdown",
      "metadata": {
        "id": "view-in-github",
        "colab_type": "text"
      },
      "source": [
        "<a href=\"https://colab.research.google.com/github/dlt434/1111/blob/main/Test_code1.ipynb\" target=\"_parent\"><img src=\"https://colab.research.google.com/assets/colab-badge.svg\" alt=\"Open In Colab\"/></a>"
      ]
    },
    {
      "cell_type": "code",
      "execution_count": null,
      "metadata": {
        "colab": {
          "base_uri": "https://localhost:8080/"
        },
        "collapsed": true,
        "id": "xoqaU1JoT1sn",
        "outputId": "c5b71c17-fced-4bcd-d6f2-c10dee928a0f"
      },
      "outputs": [
        {
          "output_type": "stream",
          "name": "stdout",
          "text": [
            "Requirement already satisfied: qutip in /usr/local/lib/python3.11/dist-packages (5.1.1)\n",
            "Requirement already satisfied: numpy>=1.22 in /usr/local/lib/python3.11/dist-packages (from qutip) (1.26.4)\n",
            "Requirement already satisfied: scipy>=1.9 in /usr/local/lib/python3.11/dist-packages (from qutip) (1.13.1)\n",
            "Requirement already satisfied: packaging in /usr/local/lib/python3.11/dist-packages (from qutip) (24.2)\n",
            "Requirement already satisfied: cplot in /usr/local/lib/python3.11/dist-packages (0.9.3)\n",
            "Requirement already satisfied: matplotlib in /usr/local/lib/python3.11/dist-packages (from cplot) (3.10.0)\n",
            "Requirement already satisfied: matplotx>=0.3.10 in /usr/local/lib/python3.11/dist-packages (from matplotx[all]>=0.3.10->cplot) (0.3.10)\n",
            "Requirement already satisfied: npx in /usr/local/lib/python3.11/dist-packages (from cplot) (0.1.6)\n",
            "Requirement already satisfied: numpy>=1.20.0 in /usr/local/lib/python3.11/dist-packages (from cplot) (1.26.4)\n",
            "Requirement already satisfied: networkx in /usr/local/lib/python3.11/dist-packages (from matplotx[all]>=0.3.10->cplot) (3.4.2)\n",
            "Requirement already satisfied: pypng in /usr/local/lib/python3.11/dist-packages (from matplotx[all]>=0.3.10->cplot) (0.20220715.0)\n",
            "Requirement already satisfied: scipy in /usr/local/lib/python3.11/dist-packages (from matplotx[all]>=0.3.10->cplot) (1.13.1)\n",
            "Requirement already satisfied: contourpy>=1.0.1 in /usr/local/lib/python3.11/dist-packages (from matplotlib->cplot) (1.3.1)\n",
            "Requirement already satisfied: cycler>=0.10 in /usr/local/lib/python3.11/dist-packages (from matplotlib->cplot) (0.12.1)\n",
            "Requirement already satisfied: fonttools>=4.22.0 in /usr/local/lib/python3.11/dist-packages (from matplotlib->cplot) (4.55.4)\n",
            "Requirement already satisfied: kiwisolver>=1.3.1 in /usr/local/lib/python3.11/dist-packages (from matplotlib->cplot) (1.4.8)\n",
            "Requirement already satisfied: packaging>=20.0 in /usr/local/lib/python3.11/dist-packages (from matplotlib->cplot) (24.2)\n",
            "Requirement already satisfied: pillow>=8 in /usr/local/lib/python3.11/dist-packages (from matplotlib->cplot) (11.1.0)\n",
            "Requirement already satisfied: pyparsing>=2.3.1 in /usr/local/lib/python3.11/dist-packages (from matplotlib->cplot) (3.2.1)\n",
            "Requirement already satisfied: python-dateutil>=2.7 in /usr/local/lib/python3.11/dist-packages (from matplotlib->cplot) (2.8.2)\n",
            "Requirement already satisfied: six>=1.5 in /usr/local/lib/python3.11/dist-packages (from python-dateutil>=2.7->matplotlib->cplot) (1.17.0)\n",
            "Requirement already satisfied: matplotlib in /usr/local/lib/python3.11/dist-packages (3.10.0)\n",
            "Requirement already satisfied: contourpy>=1.0.1 in /usr/local/lib/python3.11/dist-packages (from matplotlib) (1.3.1)\n",
            "Requirement already satisfied: cycler>=0.10 in /usr/local/lib/python3.11/dist-packages (from matplotlib) (0.12.1)\n",
            "Requirement already satisfied: fonttools>=4.22.0 in /usr/local/lib/python3.11/dist-packages (from matplotlib) (4.55.4)\n",
            "Requirement already satisfied: kiwisolver>=1.3.1 in /usr/local/lib/python3.11/dist-packages (from matplotlib) (1.4.8)\n",
            "Requirement already satisfied: numpy>=1.23 in /usr/local/lib/python3.11/dist-packages (from matplotlib) (1.26.4)\n",
            "Requirement already satisfied: packaging>=20.0 in /usr/local/lib/python3.11/dist-packages (from matplotlib) (24.2)\n",
            "Requirement already satisfied: pillow>=8 in /usr/local/lib/python3.11/dist-packages (from matplotlib) (11.1.0)\n",
            "Requirement already satisfied: pyparsing>=2.3.1 in /usr/local/lib/python3.11/dist-packages (from matplotlib) (3.2.1)\n",
            "Requirement already satisfied: python-dateutil>=2.7 in /usr/local/lib/python3.11/dist-packages (from matplotlib) (2.8.2)\n",
            "Requirement already satisfied: six>=1.5 in /usr/local/lib/python3.11/dist-packages (from python-dateutil>=2.7->matplotlib) (1.17.0)\n"
          ]
        }
      ],
      "source": [
        "!pip install qutip\n",
        "!pip install cplot\n",
        "!pip install matplotlib"
      ]
    },
    {
      "cell_type": "code",
      "source": [
        "import numpy as np\n",
        "import matplotlib.pyplot as plt\n",
        "from scipy import integrate\n",
        "\n",
        "N = 10\n",
        "k_taw_values = np.linspace(0, 5, 100)\n",
        "M_values = []\n",
        "m = 1\n",
        "\n",
        "psi = fock(N, m)\n",
        "\n",
        "x = np.linspace(-5, 5, 100)\n",
        "y = np.linspace(-5, 5, 100)\n",
        "X, Y = np.meshgrid(x, y)\n",
        "gamma = X + 1j * Y\n",
        "W0 = qutip.wigner(psi, x, y)\n",
        "\n",
        "delta_values = []\n",
        "\n",
        "for k_taw in k_taw_values:\n",
        "    T = 1 - np.exp(-2 * k_taw)\n",
        "\n",
        "    W = np.zeros_like(W0, dtype=complex)\n",
        "\n",
        "    for i in range(len(x)):\n",
        "        for j in range(len(y)):\n",
        "            gamma_value = gamma[i, j]\n",
        "\n",
        "            def w_integrand(ksi, gamma, k_taw, W0, T):\n",
        "                return (1 / np.pi) * np.exp((-2 / T)\n",
        "                * np.abs(ksi - gamma * np.exp(-k_taw))**2) * W0\n",
        "\n",
        "            W_integral = (\n",
        "                (2 / T) * integrate.simps(integrate.simps(w_integrand(\n",
        "                    gamma_value, gamma, k_taw, W0, T), x), y)\n",
        "            )\n",
        "            W[i, j] = W_integral\n",
        "\n",
        "    M_integral = integrate.simps(integrate.simps(np.abs(W)**2, y), x)\n",
        "    M = np.pi * M_integral\n",
        "    M_values.append(M)\n",
        "\n",
        "plt.plot(k_taw_values, M_values, label='m=1')\n",
        "plt.xlim(0, 5)\n",
        "plt.show()"
      ],
      "metadata": {
        "colab": {
          "base_uri": "https://localhost:8080/",
          "height": 624
        },
        "id": "zgH0aK5DXeXi",
        "outputId": "d7f022ed-a1da-443b-e3ba-78c646ee4f7c"
      },
      "execution_count": null,
      "outputs": [
        {
          "output_type": "stream",
          "name": "stderr",
          "text": [
            "<ipython-input-6-f6949564d46a>:32: RuntimeWarning: divide by zero encountered in scalar divide\n",
            "  W_integral = (2 / T) * integrate.simps(integrate.simps(wigner_integrand(gamma_value, gamma, k_taw, W0, T), x), y)\n",
            "<ipython-input-6-f6949564d46a>:30: RuntimeWarning: divide by zero encountered in scalar divide\n",
            "  return (1 / np.pi) * np.exp((-2 / T) * np.abs(ksi - gamma * np.exp(-k_taw))**2) * W0\n",
            "<ipython-input-6-f6949564d46a>:30: RuntimeWarning: invalid value encountered in multiply\n",
            "  return (1 / np.pi) * np.exp((-2 / T) * np.abs(ksi - gamma * np.exp(-k_taw))**2) * W0\n",
            "<ipython-input-6-f6949564d46a>:32: DeprecationWarning: 'scipy.integrate.simps' is deprecated in favour of 'scipy.integrate.simpson' and will be removed in SciPy 1.14.0\n",
            "  W_integral = (2 / T) * integrate.simps(integrate.simps(wigner_integrand(gamma_value, gamma, k_taw, W0, T), x), y)\n",
            "<ipython-input-6-f6949564d46a>:35: DeprecationWarning: 'scipy.integrate.simps' is deprecated in favour of 'scipy.integrate.simpson' and will be removed in SciPy 1.14.0\n",
            "  M_integral = integrate.simps(integrate.simps(np.abs(W)**2, y), x)\n"
          ]
        },
        {
          "output_type": "display_data",
          "data": {
            "text/plain": [
              "<Figure size 640x480 with 1 Axes>"
            ],
            "image/png": "[encoded data removed]"
          },
          "metadata": {}
        }
      ]
    }
  ],
  "metadata": {
    "colab": {
      "provenance": [],
      "authorship_tag": "ABX9TyNuW3fykbxzdIgJebVc8nN5",
      "include_colab_link": true
    },
    "kernelspec": {
      "display_name": "Python 3",
      "name": "python3"
    },
    "language_info": {
      "name": "python"
    }
  },
  "nbformat": 4,
  "nbformat_minor": 0
}